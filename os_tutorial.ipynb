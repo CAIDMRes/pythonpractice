{
 "cells": [
  {
   "cell_type": "code",
   "execution_count": null,
   "metadata": {},
   "outputs": [],
   "source": [
    "# Here is a bit of a tutorial on the os library\n",
    "\n",
    "# os is a library that allows you to use the operating system and is often use to create, delete, edit, open, and close files, folders, etc.\n",
    "# it has many functions but we will try to stick to the ones you will use most often"
   ]
  },
  {
   "cell_type": "code",
   "execution_count": null,
   "metadata": {},
   "outputs": [],
   "source": [
    "# First, let's import os:\n",
    "\n",
    "import os"
   ]
  },
  {
   "cell_type": "code",
   "execution_count": null,
   "metadata": {},
   "outputs": [],
   "source": [
    "# here is how to create a folder with os.makedirs\n",
    "# the following method will create a folder named 'folder' in the current directory you are in\n",
    "# you can create a folder with whatever name you'd like, just ensure that it's a string\n",
    "# the first option is the folder name, the second is the exist_ok=True option\n",
    "# you can run the code without exist_ok=True but, because\n",
    "# the exist_ok=True option does a check to make sure that, if the folder exists, it won't run and will cause an error \n",
    "# if you are trying to create a folder name that already exists. \n",
    "os.makedirs('folder', exist_ok=True)"
   ]
  },
  {
   "cell_type": "code",
   "execution_count": null,
   "metadata": {},
   "outputs": [],
   "source": [
    "# try making a folder called 'file_holder'"
   ]
  },
  {
   "cell_type": "code",
   "execution_count": null,
   "metadata": {},
   "outputs": [],
   "source": [
    "# check to make sure the above code worked by running the following\n",
    "!ls\n",
    "# is your folder there?"
   ]
  },
  {
   "cell_type": "code",
   "execution_count": null,
   "metadata": {},
   "outputs": [],
   "source": [
    "# you can also rename folders with os.rename\n",
    "# put the original folder name before the comma and what you want to change it to after the comma\n",
    "os.rename('folder', 'folder_after')"
   ]
  },
  {
   "cell_type": "code",
   "execution_count": null,
   "metadata": {},
   "outputs": [],
   "source": [
    "# the fun part, here are a few tasks for you"
   ]
  },
  {
   "cell_type": "code",
   "execution_count": null,
   "metadata": {},
   "outputs": [],
   "source": [
    "# try creating a list of strings and then looping through it and create a folder with the name of each element in the list"
   ]
  },
  {
   "cell_type": "code",
   "execution_count": null,
   "metadata": {},
   "outputs": [],
   "source": [
    "# change the name of each of the folders you just created"
   ]
  },
  {
   "cell_type": "code",
   "execution_count": null,
   "metadata": {},
   "outputs": [],
   "source": [
    "# if you're up for a challenge, create another list of strings, loop through it and create a folder with the name of each element in the list, like before"
   ]
  },
  {
   "cell_type": "code",
   "execution_count": null,
   "metadata": {},
   "outputs": [],
   "source": [
    "# once you finish, find a way to loop through that list and rename every folder you just created\n",
    "# HINT: use os.path.isdir() function or os.path.exists; you can look these up and see if you can implement them"
   ]
  }
 ],
 "metadata": {
  "kernelspec": {
   "display_name": "Python 3",
   "language": "python",
   "name": "python3"
  },
  "language_info": {
   "codemirror_mode": {
    "name": "ipython",
    "version": 3
   },
   "file_extension": ".py",
   "mimetype": "text/x-python",
   "name": "python",
   "nbconvert_exporter": "python",
   "pygments_lexer": "ipython3",
   "version": "3.5.5"
  }
 },
 "nbformat": 4,
 "nbformat_minor": 2
}
