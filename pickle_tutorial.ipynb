{
 "cells": [
  {
   "cell_type": "markdown",
   "metadata": {
    "colab_type": "text",
    "id": "WxhBit3Y69oW"
   },
   "source": [
    "Pickling your files is a way to serialize booleans, integers, floats, tuples, arrays, dictionaries, etc. in Python. It's not the same as compressing a file into a smaller size like zipping. You can pickle something and then send it or store it. All you have to do to retrieve the pickle is import the pickle library, unpickle the file in question, and then transfer its value to something you can use in your code."
   ]
  },
  {
   "cell_type": "code",
   "execution_count": null,
   "metadata": {
    "colab": {},
    "colab_type": "code",
    "id": "T-2q3_h58KQx"
   },
   "outputs": [],
   "source": [
    "# first, let's import the library\n",
    "\n",
    "import pickle"
   ]
  },
  {
   "cell_type": "code",
   "execution_count": null,
   "metadata": {
    "colab": {},
    "colab_type": "code",
    "id": "X2Ptqatd8eYw"
   },
   "outputs": [],
   "source": [
    "# now let's make a dictionary we'd like to pickle\n",
    "\n",
    "pickle_dict = {\n",
    "    'kimchi' : 'radish',\n",
    "    'sauerkraut' : 'cabbage',\n",
    "    'gherkin' : 'cucumber',\n",
    "    'hakarl' : 'shark'\n",
    "}\n",
    "\n",
    "print(pickle_dict)"
   ]
  },
  {
   "cell_type": "code",
   "execution_count": null,
   "metadata": {
    "colab": {},
    "colab_type": "code",
    "id": "MlshQEBN9Jfn"
   },
   "outputs": [],
   "source": [
    "# let's open a file to make into a pickle file\n",
    "# the first option is the filename, the second is the permissions when the file is opened which, \n",
    "# in this case, is write since you want to write your dictionary to the file\n",
    "\n",
    "pickle_file_out = open('pickles', 'wb')\n",
    "\n",
    "# put the dictionary into the file\n",
    "pickle.dump(pickle_dict, pickle_file_out)\n",
    "\n",
    "# close the file\n",
    "pickle_file_out.close()"
   ]
  },
  {
   "cell_type": "code",
   "execution_count": null,
   "metadata": {
    "colab": {},
    "colab_type": "code",
    "id": "HrcW-wgXtcR5"
   },
   "outputs": [],
   "source": [
    "!rm -rf folder"
   ]
  },
  {
   "cell_type": "code",
   "execution_count": null,
   "metadata": {
    "colab": {},
    "colab_type": "code",
    "id": "fUP_uBAMGcZ2"
   },
   "outputs": [],
   "source": [
    "# let's see if it's there\n",
    "\n",
    "!ls"
   ]
  },
  {
   "cell_type": "code",
   "execution_count": null,
   "metadata": {
    "colab": {},
    "colab_type": "code",
    "id": "7E5MBoduGdCV"
   },
   "outputs": [],
   "source": [
    "# now let's see how to unpickle the pickle you just made\n",
    "\n",
    "# first, open the file you made earlier and assign it to a variable\n",
    "# this time you are opening it with read permissions because you aren't \n",
    "pickle_file_in = open('pickles', 'rb')\n",
    "\n",
    "# now let's load the dictionary you pickled and assign its value to a new dictionary\n",
    "new_pickle_dict = pickle.load(pickle_file_in)\n",
    "\n",
    "# let's close the file\n",
    "pickle_file_in.close()\n"
   ]
  },
  {
   "cell_type": "code",
   "execution_count": null,
   "metadata": {
    "colab": {},
    "colab_type": "code",
    "id": "XAtKjiHmHVU_"
   },
   "outputs": [],
   "source": [
    "print(new_pickle_dict)"
   ]
  },
  {
   "cell_type": "code",
   "execution_count": null,
   "metadata": {
    "colab": {},
    "colab_type": "code",
    "id": "r2pbd587H3lw"
   },
   "outputs": [],
   "source": [
    "# clean up what you made if you like\n",
    "\n",
    "!rm -rf pickles"
   ]
  },
  {
   "cell_type": "code",
   "execution_count": null,
   "metadata": {
    "colab": {},
    "colab_type": "code",
    "id": "sDJeijEjRF0F"
   },
   "outputs": [],
   "source": [
    "!ls"
   ]
  },
  {
   "cell_type": "code",
   "execution_count": null,
   "metadata": {
    "colab": {},
    "colab_type": "code",
    "id": "IhzgBaV-LUY9"
   },
   "outputs": [],
   "source": [
    "# now, for practice\n",
    "\n",
    "# 1a.) make a dictionary and print it\n",
    "\n",
    "\n",
    "# 1b.) pickle the dictionary\n",
    "\n",
    "# 1c.) load the pickled dictionary into a new one and print it. does it match the original?\n",
    "\n",
    "# now that you've made a pickle yourself, try doing the same thing but, instead of just using a filename, try making a new one with the same name but with the extension .pickle\n",
    "\n",
    "\n"
   ]
  },
  {
   "cell_type": "code",
   "execution_count": null,
   "metadata": {
    "colab": {},
    "colab_type": "code",
    "id": "LnXx320eQUnA"
   },
   "outputs": [],
   "source": []
  },
  {
   "cell_type": "code",
   "execution_count": null,
   "metadata": {
    "colab": {},
    "colab_type": "code",
    "id": "xXYRy5HcWZLd"
   },
   "outputs": [],
   "source": [
    "\n",
    "\n"
   ]
  },
  {
   "cell_type": "code",
   "execution_count": null,
   "metadata": {
    "colab": {},
    "colab_type": "code",
    "id": "k_8CErpVWnEv"
   },
   "outputs": [],
   "source": []
  }
 ],
 "metadata": {
  "colab": {
   "collapsed_sections": [],
   "name": "rough_pickle_tutorial.ipynb",
   "provenance": [],
   "version": "0.3.2"
  },
  "kernelspec": {
   "display_name": "Python 3",
   "language": "python",
   "name": "python3"
  },
  "language_info": {
   "codemirror_mode": {
    "name": "ipython",
    "version": 3
   },
   "file_extension": ".py",
   "mimetype": "text/x-python",
   "name": "python",
   "nbconvert_exporter": "python",
   "pygments_lexer": "ipython3",
   "version": "3.5.5"
  }
 },
 "nbformat": 4,
 "nbformat_minor": 2
}
