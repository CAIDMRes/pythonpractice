{
  "nbformat": 4,
  "nbformat_minor": 0,
  "metadata": {
    "colab": {
      "name": "python_challenger.ipynb",
      "version": "0.3.2",
      "provenance": []
    },
    "kernelspec": {
      "name": "python3",
      "display_name": "Python 3"
    }
  },
  "cells": [
    {
      "metadata": {
        "id": "Jiasqno6z54y",
        "colab_type": "text"
      },
      "cell_type": "markdown",
      "source": [
        "# Python - Challenger Level\n",
        "\n",
        "Only for the bravest of students who want to go a step above and beyond the level of python required for Dr. Peter Chang's AI course. Some programmers that have graduated with a computer science degree still struggle with some of the materials presented here."
      ]
    },
    {
      "metadata": {
        "id": "fachLIyA1eob",
        "colab_type": "text"
      },
      "cell_type": "markdown",
      "source": [
        "## Lambda Functions\n",
        "\n",
        "This is based off of another style of programming called functional programming. This is an alternative way to defining methods.\n",
        "\n",
        "**WARNING:** Only attempt this module if you are very comfortable with methods and loops."
      ]
    },
    {
      "metadata": {
        "id": "a3Z6YDlKGZCp",
        "colab_type": "code",
        "colab": {}
      },
      "cell_type": "code",
      "source": [
        "# Example 1: defining a method to add 5\n",
        "\n",
        "# the classic way\n",
        "def add_five(num):\n",
        "  \n",
        "  return num + 5\n",
        "\n",
        "my_var1 = 5\n",
        "my_var1_result = add_five(my_var1)\n",
        "print(my_var1_result)"
      ],
      "execution_count": 0,
      "outputs": []
    },
    {
      "metadata": {
        "id": "VXN7O0qfI1Ku",
        "colab_type": "code",
        "colab": {}
      },
      "cell_type": "code",
      "source": [
        "# using a lambda function\n",
        "add_five_lambda = lambda x : x + 5 # add_five the variable, is now a method that adds 5\n",
        "                                   # intuitively the lambda says take a given variable x and add 5 to it\n",
        "\n",
        "# we use it similarly like a method\n",
        "my_var2 = 7\n",
        "my_var2_result = add_five_lambda(7)\n",
        "print(my_var2_result)"
      ],
      "execution_count": 0,
      "outputs": []
    },
    {
      "metadata": {
        "id": "NRv3o3H1RzuG",
        "colab_type": "code",
        "colab": {}
      },
      "cell_type": "code",
      "source": [
        "# CHECK YOUR UNDERSTANDING. How would I declare a lambda function that squares a number?\n",
        "\n",
        "square = ?\n",
        "\n",
        "print(square(5)) # should print out 25"
      ],
      "execution_count": 0,
      "outputs": []
    },
    {
      "metadata": {
        "id": "A4Imgsn3SHEH",
        "colab_type": "text"
      },
      "cell_type": "markdown",
      "source": [
        "### Filtering and Transforming\n",
        "Lambda functions are also useful for filtering and transforming and dictionaries. Instead of having to write out a loop with an if statement,\n",
        "we can simply use lambda functions."
      ]
    },
    {
      "metadata": {
        "id": "CVs-0TVegHy4",
        "colab_type": "text"
      },
      "cell_type": "markdown",
      "source": [
        "### Filtering\n",
        "We can use lambda functions to filter lists and dictionaries to only the values that we want. This is an alternative to using a loop in combination with an if statement. The lambda function acts like an if statement in this case."
      ]
    },
    {
      "metadata": {
        "id": "5Fbdlsl2SU4k",
        "colab_type": "code",
        "colab": {}
      },
      "cell_type": "code",
      "source": [
        "# Lets say we want to only keep the even numbers in a list\n",
        "\n",
        "my_list_1 = [1,2,3,4,5,6,7,8,9,10]\n",
        "\n",
        "# The classic approach\n",
        "my_new_list = [] # create a new blank list\n",
        "\n",
        "for num in my_list_1:\n",
        "  \n",
        "  # our conditional statement to check if num is even\n",
        "  if num % 2 == 0:\n",
        "    \n",
        "    # add only the even numbers to the new list\n",
        "    my_new_list.append(num)\n",
        "\n",
        "print(my_new_list)"
      ],
      "execution_count": 0,
      "outputs": []
    },
    {
      "metadata": {
        "id": "X8is7yEGgw-m",
        "colab_type": "text"
      },
      "cell_type": "markdown",
      "source": [
        "Having to write out a loop, and an if statement, then in addition, having to append to a new list is prone to mistakes. What is an alternative solution to this? Lambda functions using **filter()**!"
      ]
    },
    {
      "metadata": {
        "id": "-w76tXt6g9g-",
        "colab_type": "code",
        "colab": {}
      },
      "cell_type": "code",
      "source": [
        "# The lambda function filter approach\n",
        "\n",
        "my_list_2 = [1,2,3,4,5,6,7,8,9,10]\n",
        "\n",
        "my_new_list2 = list(filter(lambda x : x % 2 == 0, my_list_2))\n",
        "\n",
        "print(my_new_list2)"
      ],
      "execution_count": 0,
      "outputs": []
    },
    {
      "metadata": {
        "id": "xb_yEHg1hOPh",
        "colab_type": "text"
      },
      "cell_type": "markdown",
      "source": [
        "What just happened? We managed to do it all in one line? **O M G**! \n",
        "\n",
        "**filter()** method takes in 2 arguments, one is the lambda function and the other is a list/dictionary that you want to apply the lambda function on. The lambda function passed in acts like an if statement and then only keeps the value if the statement evaluates to true. Lastly, we have to use **list()** to convert the result back into a list, because the filter method gives back an object."
      ]
    },
    {
      "metadata": {
        "id": "r2eLyxHRjFHf",
        "colab_type": "code",
        "colab": {}
      },
      "cell_type": "code",
      "source": [
        "# CHECK YOUR UNDERSTANDING. How would I use a lambda function to filter and leave\n",
        "# only values 50 and greater?\n",
        "\n",
        "my_list_3 = [50, 20, 30, 40, 10, 60, 90, 80, 70]\n",
        "\n",
        "my_new_list3 = ?\n",
        "\n",
        "print(my_new_list3)"
      ],
      "execution_count": 0,
      "outputs": []
    },
    {
      "metadata": {
        "id": "9huduxfhoSdi",
        "colab_type": "text"
      },
      "cell_type": "markdown",
      "source": [
        "### Mapping\n",
        "We can use the function **map()** in combination with a lamda function to apply a transformation to every value within a list."
      ]
    },
    {
      "metadata": {
        "id": "ZV1WumBYpVs_",
        "colab_type": "code",
        "colab": {}
      },
      "cell_type": "code",
      "source": [
        "# Lets say I want to add 5 to every number in the list\n",
        "\n",
        "my_list_4 = [10, 20, 30, 40, 50, 60, 70, 80, 90, 100]\n",
        "\n",
        "# The classic approach\n",
        "for index, num in enumerate(my_list_4):\n",
        "  \n",
        "  my_list_4[index] = num + 5\n",
        "\n",
        "print(my_list_4) # all values should have 5 added to it now"
      ],
      "execution_count": 0,
      "outputs": []
    },
    {
      "metadata": {
        "id": "iC45qo-KpzDe",
        "colab_type": "text"
      },
      "cell_type": "markdown",
      "source": [
        "But that involves the old boring way of looping. How do we do it the cool kids club lambda way? We use the **map() ** method along with a lambda function!"
      ]
    },
    {
      "metadata": {
        "id": "cHkAZySmqiGL",
        "colab_type": "code",
        "colab": {}
      },
      "cell_type": "code",
      "source": [
        "my_list_4_lambda = [10, 20, 30, 40, 50, 60, 70, 80, 90, 100]\n",
        "\n",
        "# The cool kids lambda approach!!\n",
        "\n",
        "my_new_list_4_lambda = list(map(lambda x : x + 5, my_list_4_lambda))\n",
        "\n",
        "print(my_new_list_4_lambda)"
      ],
      "execution_count": 0,
      "outputs": []
    },
    {
      "metadata": {
        "id": "1Dd7ak0WrAtW",
        "colab_type": "code",
        "colab": {}
      },
      "cell_type": "code",
      "source": [
        "# CHECK YOUR UNDERSTANDING. How would I use a lambda function to square (^2) all\n",
        "# the values in the list?\n",
        "\n",
        "my_list_5 = [10, 20, 30, 40, 50, 60, 70, 80, 90, 100]\n",
        "\n",
        "my_new_list_5 = ?\n",
        "\n",
        "print(my_new_list_5)"
      ],
      "execution_count": 0,
      "outputs": []
    },
    {
      "metadata": {
        "id": "ZGOhTqbJjsYb",
        "colab_type": "code",
        "colab": {}
      },
      "cell_type": "code",
      "source": [
        "# CHECK YOUR UNDERSTANDING 2. We can actually nest map() on top of another map().\n",
        "# How would I use a lambda function to subtract 3 from all the values\n",
        "# and then multiply them by 10?\n",
        "\n",
        "my_list_6 = [36, 4, 17, 85, 66, 57, 42, 98, 55, 29]\n",
        "\n",
        "my_new_list_6 = ?\n",
        "\n",
        "print(my_new_list_6)\n",
        "\n",
        "# ANSWER is [330, 10, 140, 820, 630, 540, 390, 950, 520, 260]"
      ],
      "execution_count": 0,
      "outputs": []
    },
    {
      "metadata": {
        "id": "xafXpqmPueTz",
        "colab_type": "text"
      },
      "cell_type": "markdown",
      "source": [
        "What If I told you, that we can combine **filter() **and **map() **and use them together? this will be very useful! Use what you have learned in this notebook to find a way to combine these two methods and achieve the goal. "
      ]
    },
    {
      "metadata": {
        "id": "IVvHo-YUuxHU",
        "colab_type": "code",
        "colab": {}
      },
      "cell_type": "code",
      "source": [
        "# LAMBDA FINAL BOSS CHALLENGE: Transform this list by first multiplying all values by 3, then add\n",
        "# 15 to all values and finally only keep the values below 100. Remember to use lambda functions with map()/filter()"
      ],
      "execution_count": 0,
      "outputs": []
    },
    {
      "metadata": {
        "id": "YfVrMVK0vHLa",
        "colab_type": "code",
        "colab": {}
      },
      "cell_type": "code",
      "source": [
        "final_boss_list = [7, 5, 23, 50, 22, 47, 88, 15, 19, 21, 35]\n",
        "\n",
        "final_boss_output_list = ?\n",
        "\n",
        "print(final_boss_output_list)\n",
        "\n",
        "# ANSWER is [36, 30, 84, 81, 60, 72, 78]"
      ],
      "execution_count": 0,
      "outputs": []
    },
    {
      "metadata": {
        "id": "5c8yggR1wXe_",
        "colab_type": "text"
      },
      "cell_type": "markdown",
      "source": [
        "If you have reached this goal, its safe to say that most of the time you will be saying.... NO MORE LOOPS! :]"
      ]
    },
    {
      "metadata": {
        "id": "0Hjxx2-fGbD-",
        "colab_type": "text"
      },
      "cell_type": "markdown",
      "source": [
        "## Recursion\n",
        "This is another style of programming that is an alternative to looping. This involves a method calling itself.\n",
        "Wait a minute.. a method can call itself? What does that even mean? Let me show you.\n",
        "\n",
        "\n",
        "**WARNING**: Lots and lots programmers still struggle with this concept even after they graduate with a degree.\n",
        "\n",
        "**DANGER**: Trying to understand this concept has been known to make people's minds explode.\n"
      ]
    },
    {
      "metadata": {
        "id": "5d_THeIkAgLd",
        "colab_type": "code",
        "colab": {}
      },
      "cell_type": "code",
      "source": [
        "# Recall how we would sum a list\n",
        "\n",
        "my_sum_list = [22, 12, 52, 23, 42, 68, 90, 97, 86, 75, 37]\n",
        "\n",
        "# the classic approach\n",
        "my_sum_total = 0\n",
        "\n",
        "for num in my_sum_list:\n",
        "  \n",
        "  my_sum_total = my_sum_total + num\n",
        "  \n",
        "print(my_sum_total)"
      ],
      "execution_count": 0,
      "outputs": []
    },
    {
      "metadata": {
        "id": "IlTKosOwBOjN",
        "colab_type": "text"
      },
      "cell_type": "markdown",
      "source": [
        "Recursion involves two main parts to it:\n",
        "1. Defining a base case (usually an if condition, to tell it when to stop)\n",
        "2. Defining the recursive step (when the method calls itself)"
      ]
    },
    {
      "metadata": {
        "id": "1Hi8GvMYAa1j",
        "colab_type": "code",
        "colab": {}
      },
      "cell_type": "code",
      "source": [
        "# the recursive approach\n",
        "\n",
        "def sum_the_list(my_list, current_index, sum_total):\n",
        "  \n",
        "  # the base case, tells it when to stop. In this case, when we reach the end of our list\n",
        "  if current_index == len(my_list) - 1:\n",
        "    \n",
        "    return sum_total\n",
        "  \n",
        "  # the recursive step, we update our parameters to move on to the next index, along with the total sum\n",
        "  # and then call the function again\n",
        "  else:\n",
        "    \n",
        "    # update the index\n",
        "    current_index = current_index + 1\n",
        "    \n",
        "    # update our sum total\n",
        "    sum_total = sum_total + my_list[current_index]\n",
        "    \n",
        "    return sum_the_list(my_list, current_index, sum_total)\n",
        "  \n",
        "  "
      ],
      "execution_count": 0,
      "outputs": []
    },
    {
      "metadata": {
        "id": "0h510JE7CAJ5",
        "colab_type": "code",
        "colab": {}
      },
      "cell_type": "code",
      "source": [
        "my_sum_list2 = [22, 12, 52, 23, 42, 68, 90, 97, 86, 75, 37]\n",
        "my_sum_total2 = sum_the_list(my_sum_list2, 0, 0) # we pass in 0 because we want to start at index 0, and\n",
        "                                                 # another 0 for our starting total\n",
        "print(my_sum_total2)"
      ],
      "execution_count": 0,
      "outputs": []
    },
    {
      "metadata": {
        "id": "QBDOtINDK-vA",
        "colab_type": "text"
      },
      "cell_type": "markdown",
      "source": [
        "Why do we even do recursion? The reason is because for certain problems, using loops is much more challenging compared to using recursion to solve it.\n",
        "\n",
        "Here is an example. Take a look at this nasty list."
      ]
    },
    {
      "metadata": {
        "id": "qJGQcJR4ZBKs",
        "colab_type": "code",
        "colab": {}
      },
      "cell_type": "code",
      "source": [
        "# NOTE: \\ is a short cut that tells python to go to the next line, but its still part of the same variable\n",
        "nasty_list = [1, [2, 3, 4, 5, [1, 2, 5, 5], 5, [1, 2, [3, 4, 5], 4, 5, \\\n",
        "              10, [5, 6, 7, [4, 5, 7], [3, 5], [1, 2, 3]]], 7, 9, [2,  \\\n",
        "             [1, 3], [5, 7, 9]], [5, 2, 4], [5]]]\n",
        "\n",
        "print(nasty_list)"
      ],
      "execution_count": 0,
      "outputs": []
    },
    {
      "metadata": {
        "id": "P7jO_ZJu7By9",
        "colab_type": "code",
        "colab": {}
      },
      "cell_type": "code",
      "source": [
        "# Is this possible to solve with a for loop? Yes, but it's probably very complicated.\n",
        "# Feel free to give it a try.\n",
        "\n",
        "#####################################\n",
        "# START CODE HERE IF YOU WANT TO TRY\n",
        "#####################################"
      ],
      "execution_count": 0,
      "outputs": []
    },
    {
      "metadata": {
        "id": "E53Cq0Vq8qsP",
        "colab_type": "code",
        "colab": {}
      },
      "cell_type": "code",
      "source": [
        "# The easier way would be to solve this recursively.\n",
        "\n",
        "# method to recursively count how many times our target number appears in the nasty list\n",
        "def count_nums(nasty_list, target):\n",
        "  \n",
        "  # initialize variable to count\n",
        "  count = 0\n",
        "  \n",
        "  # iterate through the list\n",
        "  for num in nasty_list:\n",
        "    \n",
        "    # check if num is an int\n",
        "    if isinstance(num, int) and num == target:\n",
        "      \n",
        "      count = count + 1\n",
        "    \n",
        "    # otherwise if num is a list, recursively call count_nums on the list\n",
        "    elif isinstance(num, list):\n",
        "      \n",
        "      count = count + count_nums(num, target)\n",
        "  \n",
        "  return count"
      ],
      "execution_count": 0,
      "outputs": []
    },
    {
      "metadata": {
        "id": "2TJVVPWR9m_U",
        "colab_type": "code",
        "colab": {
          "base_uri": "https://localhost:8080/",
          "height": 34
        },
        "outputId": "0b3423c5-549c-40a8-fbb3-aeabdb1daca4"
      },
      "cell_type": "code",
      "source": [
        "count_nums(nasty_list, 5)"
      ],
      "execution_count": 31,
      "outputs": [
        {
          "output_type": "execute_result",
          "data": {
            "text/plain": [
              "12"
            ]
          },
          "metadata": {
            "tags": []
          },
          "execution_count": 31
        }
      ]
    }
  ]
}