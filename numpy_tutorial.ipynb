{
 "cells": [
  {
   "cell_type": "markdown",
   "metadata": {
    "colab_type": "text",
    "id": "LW5KAqSFg1XH"
   },
   "source": [
    "numpy\n",
    "The NumPy library (prounced like NUMber + PYthon) contains methods used to deal with common mathematical functions. The library is especially optimized for dealing with matrices (remember that all images are matrices)."
   ]
  },
  {
   "cell_type": "code",
   "execution_count": null,
   "metadata": {
    "colab": {},
    "colab_type": "code",
    "id": "oJIq41zwg8SM"
   },
   "outputs": [],
   "source": [
    "# let's import the numpy library\n",
    "# when you import something you can import it AS something and then reference it later\n",
    "\n",
    "import numpy as np"
   ]
  },
  {
   "cell_type": "markdown",
   "metadata": {
    "colab_type": "text",
    "id": "EN2TZfW6vUW9"
   },
   "source": [
    "Here is how you define a numpy array."
   ]
  },
  {
   "cell_type": "code",
   "execution_count": null,
   "metadata": {
    "colab": {
     "base_uri": "https://localhost:8080/",
     "height": 51
    },
    "colab_type": "code",
    "id": "grD-vs-ivO5N",
    "outputId": "b08c4e80-0a99-4d59-ab68-eb15317b2fca"
   },
   "outputs": [],
   "source": [
    "# Define a new simple 2 x 2 array\n",
    "a = np.array([\n",
    "    [0, 1],\n",
    "    [2, 3]\n",
    "])\n",
    "\n",
    "print(a)"
   ]
  },
  {
   "cell_type": "markdown",
   "metadata": {
    "colab_type": "text",
    "id": "DgtoeCHBwRwz"
   },
   "source": [
    "You can find out the dimensions of a numpy array using the shape function. "
   ]
  },
  {
   "cell_type": "code",
   "execution_count": null,
   "metadata": {
    "colab": {
     "base_uri": "https://localhost:8080/",
     "height": 34
    },
    "colab_type": "code",
    "id": "aRvYfGizwVcl",
    "outputId": "1841f2d4-7253-4d5b-ba3d-d952d0d2d283"
   },
   "outputs": [],
   "source": [
    "# what are the dimensions of a?\n",
    "\n",
    "a.shape"
   ]
  },
  {
   "cell_type": "markdown",
   "metadata": {
    "colab_type": "text",
    "id": "l0YOOQpa3vle"
   },
   "source": [
    "You can create arrays with predetermined numbers more easily with a few other functions."
   ]
  },
  {
   "cell_type": "code",
   "execution_count": null,
   "metadata": {
    "colab": {
     "base_uri": "https://localhost:8080/",
     "height": 510
    },
    "colab_type": "code",
    "id": "7LVefewo30oe",
    "outputId": "395d9057-d9db-4928-b91f-40716ba47520"
   },
   "outputs": [],
   "source": [
    "print('here is an array of zeros')\n",
    "# the dimensions are defined as (rows, columns)\n",
    "zeros = np.zeros((4,3))  \n",
    "print(zeros)             \n",
    "\n",
    "print('here is an array of ones')\n",
    "# the dimensions are defined as (rows, columns)\n",
    "ones = np.ones((8,7))    \n",
    "print(ones)              \n",
    "\n",
    "print('here is a constant array')\n",
    "# the dimensions are defined as (rows, columns)\n",
    "const = np.full((5,8), 9)  \n",
    "print(const)               \n",
    "                       \n",
    "print('here is an identity matrix')\n",
    "# this is going to create a matrix of equal dimensions and with 1's making a\n",
    "# diagonal line through it and 0's everywhere else \n",
    "id = np.eye(8)         \n",
    "print(id)              \n",
    "                     "
   ]
  },
  {
   "cell_type": "markdown",
   "metadata": {
    "colab_type": "text",
    "id": "RPfuScizvX-u"
   },
   "source": [
    "You can find the mean of the entire numpy array using the mean function. "
   ]
  },
  {
   "cell_type": "code",
   "execution_count": null,
   "metadata": {
    "colab": {
     "base_uri": "https://localhost:8080/",
     "height": 102
    },
    "colab_type": "code",
    "id": "qC63jZjDvk1S",
    "outputId": "1e57a00b-c216-43b0-d093-613b3e7feabb"
   },
   "outputs": [],
   "source": [
    "# Determine mean of values\n",
    "print(np.mean(a))\n",
    "print(np.mean(zeros))\n",
    "print(np.mean(ones))\n",
    "print(np.mean(const))\n",
    "print(np.mean(id))"
   ]
  },
  {
   "cell_type": "markdown",
   "metadata": {
    "colab_type": "text",
    "id": "7FMeHwafv3oY"
   },
   "source": [
    "You can also find the mean of the all the elements of either the rows or columns if you specify it. Just take the mean of axis=0 to get the mean of the elements of the columns and take the mean of axis=1 to get the mean of the elements of the rows. "
   ]
  },
  {
   "cell_type": "code",
   "execution_count": null,
   "metadata": {
    "colab": {
     "base_uri": "https://localhost:8080/",
     "height": 34
    },
    "colab_type": "code",
    "id": "Sa6ITzCwv8uk",
    "outputId": "39e7df32-3fa3-4b51-9b11-48a5dae51cb4"
   },
   "outputs": [],
   "source": [
    "# Determine the mean of columns (axis=0)\n",
    "a = np.array([\n",
    "    [0, 1],\n",
    "    [2, 3]\n",
    "])\n",
    "print(np.mean(a, axis=0))"
   ]
  },
  {
   "cell_type": "code",
   "execution_count": null,
   "metadata": {
    "colab": {
     "base_uri": "https://localhost:8080/",
     "height": 34
    },
    "colab_type": "code",
    "id": "3B8c9ys6wA5w",
    "outputId": "8c8cf419-9517-4119-9018-456fe574342d"
   },
   "outputs": [],
   "source": [
    "# Determine the mean of rows (axis=1)\n",
    "a = np.array([\n",
    "    [0, 1],\n",
    "    [2, 3]\n",
    "])\n",
    "print(np.mean(a, axis=1))"
   ]
  },
  {
   "cell_type": "markdown",
   "metadata": {
    "colab_type": "text",
    "id": "myNgVZwPvsUA"
   },
   "source": [
    "Max and min can be used to find the maximum and minimum numbers in a numpy array. "
   ]
  },
  {
   "cell_type": "code",
   "execution_count": null,
   "metadata": {
    "colab": {
     "base_uri": "https://localhost:8080/",
     "height": 85
    },
    "colab_type": "code",
    "id": "bQFUdR--vwke",
    "outputId": "373b09c2-f706-437b-f581-50b0f096ccb3"
   },
   "outputs": [],
   "source": [
    "# Determine max/min of values\n",
    "a = np.array([\n",
    "    [0, 1],\n",
    "    [2, 3]\n",
    "])\n",
    "print('here is the min')\n",
    "print(np.min(a))\n",
    "print('here is the max')\n",
    "print(np.max(a))"
   ]
  },
  {
   "cell_type": "markdown",
   "metadata": {
    "colab_type": "text",
    "id": "VxK8Gd3Lthyh"
   },
   "source": [
    "Using the random command, you can randomly generate numbers for a numpy matrix of any dimensions that you'd prefer.\n",
    "In this case, it's a 2x2"
   ]
  },
  {
   "cell_type": "code",
   "execution_count": null,
   "metadata": {
    "colab": {
     "base_uri": "https://localhost:8080/",
     "height": 51
    },
    "colab_type": "code",
    "id": "2TIG-fYcg_gG",
    "outputId": "59544d8f-006f-4a70-fcf6-635134d047c5"
   },
   "outputs": [],
   "source": [
    "random_matrix = np.random.rand(2, 2)\n",
    "print(random_matrix)"
   ]
  },
  {
   "cell_type": "markdown",
   "metadata": {
    "colab_type": "text",
    "id": "o3MQIERZ9NgD"
   },
   "source": [
    "You can access the individual elements of a numpy array if needed. \n"
   ]
  },
  {
   "cell_type": "code",
   "execution_count": null,
   "metadata": {
    "colab": {
     "base_uri": "https://localhost:8080/",
     "height": 85
    },
    "colab_type": "code",
    "id": "d0Y94iZUub5m",
    "outputId": "67a2c592-b902-48ed-c208-78088af2b9b1"
   },
   "outputs": [],
   "source": [
    "a = np.array([\n",
    "    [0, 1, 2],\n",
    "    [2, 3, 4]\n",
    "])\n",
    "\n",
    "# when you want to access specific parts of a numpy array, you need to access them \n",
    "# by row and column. to print the 2 at the end of the first row and the 2 at the beginning \n",
    "# of the second, you have to do this:\n",
    "print('here is the 2 in the first row')\n",
    "print(np.array(a[0, 2]))\n",
    "print('here is the 2 in the second row')\n",
    "print(np.array(a[1, 0]))"
   ]
  },
  {
   "cell_type": "markdown",
   "metadata": {
    "colab_type": "text",
    "id": "mJwka1yf9mZz"
   },
   "source": [
    "Here are some basic mathematic operations you can do with numpy."
   ]
  },
  {
   "cell_type": "code",
   "execution_count": null,
   "metadata": {
    "colab": {},
    "colab_type": "code",
    "id": "8BQL_jVY8UR5"
   },
   "outputs": [],
   "source": [
    "# let's define the arrays we'll use\n",
    "\n",
    "x = np.array([\n",
    "    [1,2],\n",
    "    [3,4],\n",
    "    [5,6],\n",
    "    [6,7]\n",
    "], dtype=np.float64)\n",
    "y = np.array([\n",
    "    [1,2],\n",
    "    [3,4],\n",
    "    [5,6],\n",
    "    [6,7]\n",
    "], dtype=np.float64)\n"
   ]
  },
  {
   "cell_type": "code",
   "execution_count": null,
   "metadata": {
    "colab": {
     "base_uri": "https://localhost:8080/",
     "height": 153
    },
    "colab_type": "code",
    "id": "SEd60uIy9776",
    "outputId": "c7b07101-08a9-485e-ecba-2a6312ca25f3"
   },
   "outputs": [],
   "source": [
    "# here is how you add two arrays together without numpy\n",
    "print(x + y)\n",
    "# here is how you add two arrays together with numpy\n",
    "print(np.add(x, y))"
   ]
  },
  {
   "cell_type": "code",
   "execution_count": null,
   "metadata": {
    "colab": {
     "base_uri": "https://localhost:8080/",
     "height": 153
    },
    "colab_type": "code",
    "id": "Y94GvZaC9-_A",
    "outputId": "51d40f56-db6f-464a-e22c-d514c01861c4"
   },
   "outputs": [],
   "source": [
    "# here is how you subtract one array from another without numpy\n",
    "print(x - y)\n",
    "# here is how you subtract one array from another together with numpy\n",
    "print(np.subtract(x, y))"
   ]
  },
  {
   "cell_type": "code",
   "execution_count": null,
   "metadata": {
    "colab": {
     "base_uri": "https://localhost:8080/",
     "height": 153
    },
    "colab_type": "code",
    "id": "wl88rvYD-AfD",
    "outputId": "5d098664-bacf-4226-9d51-06be5c75b622"
   },
   "outputs": [],
   "source": [
    "# here is how you multiply two arrays without numpy\n",
    "print(x * y)\n",
    "# here is how you multiply two arrays with numpy\n",
    "print(np.multiply(x, y))"
   ]
  },
  {
   "cell_type": "code",
   "execution_count": null,
   "metadata": {
    "colab": {
     "base_uri": "https://localhost:8080/",
     "height": 153
    },
    "colab_type": "code",
    "id": "GO4DLz_d-B_0",
    "outputId": "4b6557f3-f148-4974-e552-8e9be7b35d95"
   },
   "outputs": [],
   "source": [
    "# here is how you divide one array by another without numpy\n",
    "print(x / y)\n",
    "# here is how you divide one array by another with numpy\n",
    "print(np.divide(x, y))"
   ]
  },
  {
   "cell_type": "code",
   "execution_count": null,
   "metadata": {
    "colab": {
     "base_uri": "https://localhost:8080/",
     "height": 136
    },
    "colab_type": "code",
    "id": "--W2dSFA-DXn",
    "outputId": "eca6a316-7002-4fc0-b145-072e44fdaaa1"
   },
   "outputs": [],
   "source": [
    "# other math functions won't transfer so easily\n",
    "# earlier you saw the min, max, and mean functions; those would be much harder without numpy\n",
    "# taking the sum and square root are also easier with numpy\n",
    "\n",
    "\n",
    "# here is how you take the square root of each of the elements\n",
    "print('root of each element')\n",
    "print(np.sqrt(x))\n",
    "\n",
    "print('sum of all elements')\n",
    "print(np.sum(x))"
   ]
  },
  {
   "cell_type": "markdown",
   "metadata": {
    "colab_type": "text",
    "id": "BjODxAqY9CeQ"
   },
   "source": [
    "There are plenty of other ways you can manipulate numpy arrays, but this is a basic set to start on. Once you feel comfortable enough, you can try the following problems."
   ]
  },
  {
   "cell_type": "code",
   "execution_count": null,
   "metadata": {
    "colab": {},
    "colab_type": "code",
    "id": "YDZZxlA3__yh"
   },
   "outputs": [],
   "source": [
    "# 1.) Make a 7x7 array of zeroes and print it\n",
    "print('here is the array')\n",
    "# put your code between here and the next problem\n",
    "\n",
    "# 1a.) Print the array's shape just to be sure. \n",
    "print('here is the shape')\n",
    "# put your code between here and the next problem"
   ]
  },
  {
   "cell_type": "code",
   "execution_count": null,
   "metadata": {
    "colab": {},
    "colab_type": "code",
    "id": "oG-Vap6bAE8Y"
   },
   "outputs": [],
   "source": [
    "# 2.) Make a 9x9 array of ones and print it\n",
    "print('here is the array')\n",
    "# put your code between here and the next problem\n",
    "\n",
    "# 2a.) Print the array's shape just to be sure. \n",
    "print('here is the shape')\n",
    "# put your code between here and the next problem"
   ]
  },
  {
   "cell_type": "code",
   "execution_count": null,
   "metadata": {
    "colab": {},
    "colab_type": "code",
    "id": "PTxn8XnkAH0s"
   },
   "outputs": [],
   "source": [
    "# 3.) Make a 5x2 numpy array of numbers 1-10 and print it along with its shape\n",
    "print('here is the array')\n",
    "# put your code between here and the next problem\n",
    "\n",
    "# 3a.) Print the 1\n",
    "print('here is the one')\n",
    "# put your code between here and the next problem\n",
    "\n",
    "# 3b.) Print the 5\n",
    "print('here is the five')\n",
    "# put your code between here and the next problem\n",
    "\n",
    "# 3c.) Print the 10\n",
    "print('here is the ten')\n",
    "# put your code between here and the next problem\n",
    "\n",
    "# 3d.) What is the mean of all the elements of the array?\n",
    "print('here is the mean of everything')\n",
    "# put your code between here and the next problem\n",
    "\n",
    "# 3e.) What is the sum of all the elements of the array?\n",
    "print('here is the sum of everything')\n",
    "# put your code between here and the next problem\n",
    "\n",
    "# 3f.) What is the max of all the elements of the array?\n",
    "print('here is the max of everything')\n",
    "# put your code between here and the next problem\n",
    "\n",
    "# 3g.) What is the min of all the elements of the array?\n",
    "print('here is the min of everything')\n",
    "# put your code between here and the next problem\n"
   ]
  },
  {
   "cell_type": "code",
   "execution_count": null,
   "metadata": {
    "colab": {},
    "colab_type": "code",
    "id": "0fZUR2nUC45m"
   },
   "outputs": [],
   "source": [
    "# 4.) Make a 5x2 numpy array of numbers 11-20 and print it along with its shape\n",
    "print('here is the array')\n",
    "# put your code between here and the next problem\n",
    "\n",
    "# 4a.) Print the product of this array and the previous one.\n",
    "print('here are the two multiplied together')\n",
    "# put your code between here and the next problem\n",
    "\n",
    "# 4b.) Print the quotient this array divided by the previous one. \n",
    "print('here is 11-20 divided by 1-10')\n",
    "# put your code between here and the next problem\n"
   ]
  }
 ],
 "metadata": {
  "colab": {
   "name": "rough_numpy_tutorial.ipynb",
   "provenance": [],
   "version": "0.3.2"
  },
  "kernelspec": {
   "display_name": "Python 3",
   "language": "python",
   "name": "python3"
  },
  "language_info": {
   "codemirror_mode": {
    "name": "ipython",
    "version": 3
   },
   "file_extension": ".py",
   "mimetype": "text/x-python",
   "name": "python",
   "nbconvert_exporter": "python",
   "pygments_lexer": "ipython3",
   "version": "3.5.5"
  }
 },
 "nbformat": 4,
 "nbformat_minor": 2
}
